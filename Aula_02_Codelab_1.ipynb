{
  "nbformat": 4,
  "nbformat_minor": 0,
  "metadata": {
    "colab": {
      "name": "Aula_02_Codelab_1.ipynb",
      "provenance": [],
      "collapsed_sections": [],
      "include_colab_link": true
    },
    "kernelspec": {
      "name": "python3",
      "display_name": "Python 3"
    },
    "language_info": {
      "name": "python"
    }
  },
  "cells": [
    {
      "cell_type": "markdown",
      "metadata": {
        "id": "view-in-github",
        "colab_type": "text"
      },
      "source": [
        "<a href=\"https://colab.research.google.com/github/viniciuslimateixeira/Exerc-cios-Python/blob/main/Aula_02_Codelab_1.ipynb\" target=\"_parent\"><img src=\"https://colab.research.google.com/assets/colab-badge.svg\" alt=\"Open In Colab\"/></a>"
      ]
    },
    {
      "cell_type": "markdown",
      "metadata": {
        "id": "n_igYcmdk6U9"
      },
      "source": [
        "# **Exercícios para treinar:**"
      ]
    },
    {
      "cell_type": "markdown",
      "metadata": {
        "id": "rRyZR6ZAlEHU"
      },
      "source": [
        "1. **Frase na tela** - Implemente um programa que escreve na tela a frase \"O primeiro programa a gente nunca esquece!\".\n",
        "\n",
        "2. **Etiqueta** - Elabore um programa que escreve seu nome completo na primeira linha, seu endereço na segunda e o CEP e telefone na terceira.\n",
        "\n",
        "3. **Letra de música** - Faça um programa que mostre na tela uma letra de música que você gosta (proibido letras do Justin Bieber).\n",
        "\n",
        "4. **Tabela de notas** - Você foi contratado ou contratada por uma escola pra fazer o sistema de boletim dos alunos. Como primeiro passo, escreva um programa que produza a seguinte saída:\n",
        "```\n",
        "ALUNO (A)  NOTA\n",
        "=========  ====\n",
        "ALINE      9.0\n",
        "MÁRIO      DEZ\n",
        "SÉRGIO     4.5\n",
        "SHIRLEY    7.0\n",
        "```\n",
        "\n",
        "5. **Menu** - Elabore um programa que mostre o seguinte menu na tela:\n",
        "```\n",
        "Cadastro de Clientes\n",
        "0 - Fim\n",
        "1 - Inclui\n",
        "2 - Altera\n",
        "3 - Exclui\n",
        "4 - Consulta\n",
        "Digite uma opção: \n",
        "```\n",
        "Ao digitar um valor para a opção, o programa exibe qual opção foi escolhida.\n",
        "```\n",
        "Você escolheu a opção '0'.\n",
        "```\n",
        "\n",
        "6. **Calculadora de Dano** - Escreva um programa que receba dois valores digitados pelo usuário:\n",
        "  - Quantidade de vida de um monstro (entre 10 e 50);\n",
        "  - Valor do ataque do jogador por turno (entre 5 e 10);\n",
        "  - Baseado nos valores digitados, exiba a quantidade de turnos que o jogador irá demorar para conseguir derrotar o monstro.\n",
        "  - ```\n",
        "    O jogador irá derrotar o monstro em 8 turnos.\n",
        "    ```"
      ]
    },
    {
      "cell_type": "markdown",
      "metadata": {
        "id": "HqgnPaCGqMPB"
      },
      "source": [
        "# Exercícios"
      ]
    },
    {
      "cell_type": "markdown",
      "metadata": {
        "id": "U-ltrv0jqPBq"
      },
      "source": [
        "## #01 - E os 10% do garçom?**\n",
        "\n",
        "- Defina uma variável para o valor de uma refeição que custou R$ 42,54;\n",
        "\n",
        "- Defina uma variável para o valor da taxa de serviço que é de 10%;\n",
        "\n",
        "- Defina uma variável que calcula o valor total da conta e exiba-o no console com essa formatação: R$ XXXX.XX."
      ]
    },
    {
      "cell_type": "code",
      "metadata": {
        "id": "jbcSv4NFkB1C"
      },
      "source": [
        ""
      ],
      "execution_count": null,
      "outputs": []
    },
    {
      "cell_type": "markdown",
      "metadata": {
        "id": "JR3-KgsTqR41"
      },
      "source": [
        "## #02 - Qual o valor do troco?\n",
        "\n",
        "*   Defina uma variável para o valor de uma compra que custou R$100,98;\n",
        "\n",
        "*   Defina uma variável para o valor que o cliente pagou R$150,00;\n",
        "\n",
        "*   Defina uma variável que calcula o valor do troco e exiba-o no console com o valor final arredondado."
      ]
    },
    {
      "cell_type": "code",
      "metadata": {
        "id": "hBf3kE_pksAI"
      },
      "source": [
        ""
      ],
      "execution_count": null,
      "outputs": []
    },
    {
      "cell_type": "markdown",
      "metadata": {
        "id": "2Uu84Uqtkunt"
      },
      "source": [
        "## #03 - Você está na flor da idade?\n",
        "\n",
        "*  Defina uma variável para o valor do ano do nascimento;\n",
        "*  Defina uma variável para o valor do ano atual;\n",
        "*  Defina uma variável que calcula o valor final da idade da pessoa;\n",
        "*  Exiba uma mensagem final dizendo a idade da pessoa e a mensagem \"Você está na flor da idade\"."
      ]
    },
    {
      "cell_type": "code",
      "metadata": {
        "id": "kyXxJV3nk14Z"
      },
      "source": [
        ""
      ],
      "execution_count": null,
      "outputs": []
    },
    {
      "cell_type": "markdown",
      "metadata": {
        "id": "w1T7s2q0p-pt"
      },
      "source": [
        "# Mini projetos"
      ]
    },
    {
      "cell_type": "markdown",
      "metadata": {
        "id": "meUw7PTwqC-Y"
      },
      "source": [
        "## #01 - Conversor de moedas\n",
        "\n",
        "Crie um programa que solicite um um valor em real ao usuário e converta esse valor, para:\n",
        "\n",
        "- DOLAR,\n",
        "- EURO,\n",
        "- LIBRA ESTERLINA,\n",
        "- DÓLAR CANADENSE,\n",
        "- PESO ARGENTINO,\n",
        "- PESO CHILENO.\n",
        "\n",
        "Para esse exercício você precisará realizar uma pesquisa para saber a cotação de cada moeda em real. Mostrar o resultado no formato $ XXXX.XX"
      ]
    },
    {
      "cell_type": "code",
      "metadata": {
        "id": "q481snSClrXe"
      },
      "source": [
        ""
      ],
      "execution_count": null,
      "outputs": []
    },
    {
      "cell_type": "markdown",
      "metadata": {
        "id": "KK9PIcJ4qIF9"
      },
      "source": [
        "## #02 - Calculadora de aumento de aluguel\n",
        "\n",
        "Vamos construir um programa que irá calcular o aumento anual do seu aluguel em duas partes:\n",
        "\n",
        "### Parte 1\n",
        "A sua calculadora vai receber o `valor do aluguel` e calcular o aumento baseado no `IGPM de 31%`. A calculadora deve apresentar o aluguel reajustado no formato `R$ XXXX.XX`\n",
        "\n",
        "**Exemplo:**\n",
        "```\n",
        "Valor do aluguel = 1000\n",
        "Valor do aluguel reajustado = R$ 1310,00"
      ]
    },
    {
      "cell_type": "code",
      "metadata": {
        "id": "VdjHa9Csl0Lg"
      },
      "source": [
        ""
      ],
      "execution_count": null,
      "outputs": []
    },
    {
      "cell_type": "markdown",
      "metadata": {
        "id": "lKTwnuNMl8rP"
      },
      "source": [
        "### Parte 2\n",
        "Agora, altere sua calculadora para receber além do `valor do aluguel`, o percentual do reajuste no formato `XX%`.  \n",
        "\n",
        "**Dica:** Descubra uma forma de transformar o percentual recebido em um número para efetuar o cálculo.\n",
        "\n",
        "**Exemplo:**\n",
        "```\n",
        "Valor do aluguel = 1000\n",
        "Percentual do reajuste = 31%\n",
        "Valor do aluguel reajustado = R% 1310,00\n",
        "```"
      ]
    },
    {
      "cell_type": "code",
      "metadata": {
        "id": "aw2Zk_9KmA85",
        "colab": {
          "base_uri": "https://localhost:8080/"
        },
        "outputId": "cebfadc3-da07-446d-e9b0-9a3115eda814"
      },
      "source": [
        "print('O primeiro programa a gente nunca esquece')"
      ],
      "execution_count": null,
      "outputs": [
        {
          "output_type": "stream",
          "text": [
            "O primeiro programa a gente nunca esquece\n"
          ],
          "name": "stdout"
        }
      ]
    },
    {
      "cell_type": "code",
      "metadata": {
        "colab": {
          "base_uri": "https://localhost:8080/"
        },
        "id": "lPo3q1-I9Dre",
        "outputId": "84a62757-1b94-4c13-b628-1614197f01e9"
      },
      "source": [
        "nome = input('insira seu seu nome')\n",
        "endereco = input('insira seu endereço')\n",
        "CEP = input('insira seu CEP')\n",
        "telefone= input('Insira seu telefone')\n",
        "\n",
        "print(f'nome = {nome}\\nendereco = {endereco}\\nCEP = {CEP} telefone = {telefone}')\n"
      ],
      "execution_count": null,
      "outputs": [
        {
          "output_type": "stream",
          "text": [
            "insira seu seu nomeVinícius\n",
            "insira seu endereçoRua Portugal \n",
            "insira seu CEP3657000\n",
            "Insira seu telefone988652133\n",
            "nome = Vinícius\n",
            "endereco = Rua Portugal \n",
            "CEP = 3657000 telefone = 988652133\n"
          ],
          "name": "stdout"
        }
      ]
    },
    {
      "cell_type": "code",
      "metadata": {
        "colab": {
          "base_uri": "https://localhost:8080/"
        },
        "id": "FVVDYhcLA3wC",
        "outputId": "10a6d09b-b469-4162-ce3c-465a30b3e8b5"
      },
      "source": [
        "print(\"How long, how long will I slide?\\nSeparate my side, I don’t\\nI don’t believe it’s bad\\nA slit in my throat, it’s all I ever\\nI heard your voice through a photograph\\nI thought it up and brought up the past\\nOnce you know you can never go back\\nI’ve got to take it on the otherside\\nit meant to me\\nA cemetery where I marry the sea\\nStranger things could never change my mind\\nI’ve got to take it on the otherside\")"
      ],
      "execution_count": null,
      "outputs": [
        {
          "output_type": "stream",
          "text": [
            "How long, how long will I slide?\n",
            "Separate my side, I don’t\n",
            "I don’t believe it’s bad\n",
            "A slit in my throat, it’s all I ever\n",
            "I heard your voice through a photograph\n",
            "I thought it up and brought up the past\n",
            "Once you know you can never go back\n",
            "I’ve got to take it on the otherside\n",
            "it meant to me\n",
            "A cemetery where I marry the sea\n",
            "Stranger things could never change my mind\n",
            "I’ve got to take it on the otherside\n"
          ],
          "name": "stdout"
        }
      ]
    },
    {
      "cell_type": "code",
      "metadata": {
        "colab": {
          "base_uri": "https://localhost:8080/"
        },
        "id": "iWoUD7SKB511",
        "outputId": "ed97bf76-39de-4fe7-c5d6-e11d4a9ac6bb"
      },
      "source": [
        "print ('ALUNO (A)   NOTA')\n",
        "print ('=========   ====')\n",
        "print ('ALINE        9.0')\n",
        "print ('MÁRIO        DEZ')\n",
        "print ('SÉRGIO       4.5')\n",
        "print('SHIRLEY      7.0')"
      ],
      "execution_count": null,
      "outputs": [
        {
          "output_type": "stream",
          "text": [
            "ALUNO (A)   NOTA\n",
            "=========   ====\n",
            "ALINE        9.0\n",
            "MÁRIO        DEZ\n",
            "SÉRGIO       4.5\n",
            "SHIRLEY      7.0\n"
          ],
          "name": "stdout"
        }
      ]
    },
    {
      "cell_type": "code",
      "metadata": {
        "colab": {
          "base_uri": "https://localhost:8080/"
        },
        "id": "xxxq4106Q33W",
        "outputId": "53eb2d5d-264d-4bc2-e756-48b010f0b039"
      },
      "source": [
        "print('''\n",
        "Cadastro de Clientes\n",
        "0 - Fim\n",
        "1 - Inclui\n",
        "2 - Altera\n",
        "3 - Exclui\n",
        "4 - Consulta\n",
        "''')\n",
        "escolha = (input('Digite uma opção = '))\n",
        "print(f'Você escolheu a opção {escolha}')\n"
      ],
      "execution_count": null,
      "outputs": [
        {
          "output_type": "stream",
          "text": [
            "\n",
            "Cadastro de Clientes\n",
            "0 - Fim\n",
            "1 - Inclui\n",
            "2 - Altera\n",
            "3 - Exclui\n",
            "4 - Consulta\n",
            "\n",
            "Digite uma opção = 3\n",
            "Você escolheu a opção 3\n"
          ],
          "name": "stdout"
        }
      ]
    },
    {
      "cell_type": "code",
      "metadata": {
        "colab": {
          "base_uri": "https://localhost:8080/"
        },
        "id": "cxLeGF2ecEs3",
        "outputId": "30b29ca5-20c6-43e8-eeb0-2d107881ebc6"
      },
      "source": [
        "print('''\n",
        "Quantidade de vida de um monstro (entre 10 e 50);\n",
        "Valor do ataque do jogador por turno (entre 5 e 10)\n",
        "''')\n",
        "dano = int(input('Insira o valor de vida para o monstro = '))\n",
        "ataque = int(input('Insira o valor do ataque do jogador = '))\n",
        "print(f'Turnos para vitória = {dano/ataque}')\n",
        "\n",
        "\n"
      ],
      "execution_count": null,
      "outputs": [
        {
          "output_type": "stream",
          "text": [
            "\n",
            "Quantidade de vida de um monstro (entre 10 e 50);\n",
            "Valor do ataque do jogador por turno (entre 5 e 10)\n",
            "\n",
            "Insira o valor de vida para o monstro = 30\n",
            "Insira o valor do ataque do jogador = 7\n",
            "Turnos para vitória = 4.285714285714286\n"
          ],
          "name": "stdout"
        }
      ]
    },
    {
      "cell_type": "code",
      "metadata": {
        "colab": {
          "base_uri": "https://localhost:8080/"
        },
        "id": "gxFDNiZTSS3t",
        "outputId": "3f6a9a72-1543-41af-a04d-3f4f4a297b1d"
      },
      "source": [
        "p = float(input('Digite o valor da refeição: '))\n",
        "t = float(input('Digite o valor da taxa de serviço: '))\n",
        "vt = (p*t)+p\n",
        "\n",
        "print(f'R$ {vt}')"
      ],
      "execution_count": 6,
      "outputs": [
        {
          "output_type": "stream",
          "text": [
            "Digite o valor da refeição: 42.54\n",
            "Digite o valor da taxa de serviço: 0.1\n",
            "R$ 46.794\n"
          ],
          "name": "stdout"
        }
      ]
    },
    {
      "cell_type": "code",
      "metadata": {
        "colab": {
          "base_uri": "https://localhost:8080/"
        },
        "id": "zut-2GAnUfiQ",
        "outputId": "887ff3a5-d144-40f8-df42-27571e65f4e6"
      },
      "source": [
        "c = float(input('Insira o valor da compra: '))\n",
        "p = float(input('Insira o valor do pagamento: '))\n",
        "t = p-c\n",
        "\n",
        "print(f'{t}')"
      ],
      "execution_count": 15,
      "outputs": [
        {
          "output_type": "stream",
          "text": [
            "Insira o valor da compra: 100.98\n",
            "Insira o valor do pagamento: 150\n",
            "49.019999999999996\n"
          ],
          "name": "stdout"
        }
      ]
    },
    {
      "cell_type": "code",
      "metadata": {
        "colab": {
          "base_uri": "https://localhost:8080/"
        },
        "id": "xwLDBCw9WK9t",
        "outputId": "f6f57095-bd1c-452a-a3c3-d946796a4d61"
      },
      "source": [
        "ano_nasc = int(input('insira o ano de seu nascimento: '))\n",
        "ano_atual = int(input('insira o ano atual'))\n",
        "Idade = ano_atual-ano_nasc\n",
        "\n",
        "print(f'Idade = {Idade}. Você está na flor da idade.')"
      ],
      "execution_count": 16,
      "outputs": [
        {
          "output_type": "stream",
          "text": [
            "insira o ano de seu nascimento: 1992\n",
            "insira o ano atual2021\n",
            "Idade = 29. Você está na flor da idade.\n"
          ],
          "name": "stdout"
        }
      ]
    },
    {
      "cell_type": "code",
      "metadata": {
        "colab": {
          "base_uri": "https://localhost:8080/"
        },
        "id": "5_UVPfgHW1Wh",
        "outputId": "42b38eef-6a17-40a1-ba2e-81d436629952"
      },
      "source": [
        "Real = float(input('Insira o valor desejado em reais (R$)'))\n",
        "DOLAR = Real/5.04\n",
        "EURO = Real/6.16\n",
        "LIBRA_ESTERLINA = Real/7.13\n",
        "DÓLAR_CANADENSE = Real/4.18\n",
        "PESO_ARGENTINO = Real/0.05\n",
        "PESO_CHILENO = Real/10.007\n",
        "\n",
        "print(f'DOLAR = ${DOLAR}\\nEURO = ${EURO}\\nLIBRA ESTERLINA = ${LIBRA_ESTERLINA}\\nDÓLAR CANADENSE = ${DÓLAR_CANADENSE}\\nPESO ARGENTINO = ${PESO_ARGENTINO}\\nPESO CHILENO = ${PESO_CHILENO}')\n"
      ],
      "execution_count": 23,
      "outputs": [
        {
          "output_type": "stream",
          "text": [
            "Insira o valor desejado em reais (R$)10\n",
            "DOLAR = $1.9841269841269842\n",
            "EURO = $1.6233766233766234\n",
            "LIBRA ESTERLINA = $1.402524544179523\n",
            "DÓLAR CANADENSE = $2.3923444976076556\n",
            "PESO ARGENTINO = $200.0\n",
            "PESO CHILENO = $0.9993004896572399\n"
          ],
          "name": "stdout"
        }
      ]
    },
    {
      "cell_type": "code",
      "metadata": {
        "colab": {
          "base_uri": "https://localhost:8080/"
        },
        "id": "eGN4nosjdbDy",
        "outputId": "833a0efb-31c1-415e-841a-42733015f143"
      },
      "source": [
        "Valor_aluguel = float(input('Insira o valor do aluguel (R$)'))\n",
        "IGPM = float(input('Insira o valor do reajuste em %'))\n",
        "IGPM_CALC = IGPM/100\n",
        "Calculadora_aluguel = (Valor_aluguel*IGPM_CALC)+Valor_aluguel\n",
        "\n",
        "print(f'O valor do aluguel reajustado é = R$ {Calculadora_aluguel}')"
      ],
      "execution_count": 29,
      "outputs": [
        {
          "output_type": "stream",
          "text": [
            "Insira o valor do aluguel (R$)500\n",
            "Insira o valor do reajuste em %10\n",
            "O valor do aluguel reajustado é = R$ 550.0\n"
          ],
          "name": "stdout"
        }
      ]
    }
  ]
}